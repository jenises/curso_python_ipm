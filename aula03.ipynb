{
 "cells": [
  {
   "cell_type": "code",
   "execution_count": 9,
   "metadata": {},
   "outputs": [],
   "source": [
    "#import sqlite3 as sql\n",
    "#conexao = sql.connect('globalstore.db')\n",
    "\n",
    "import pandas as pd\n",
    "globalstore = pd.read_csv('globalstore.csv')\n",
    "\n",
    "\n",
    "globalstore = globalstore.rename(\n",
    "    columns = {\n",
    "        'Row ID': 'items_sequence',\n",
    "        'Order ID': 'order_number',\n",
    "        'Order Date': 'order_date',\n",
    "        'Ship Date': 'ship_date',\n",
    "        'Ship Mode': 'ship_mode',\n",
    "        'Customer ID': 'customer_id',\n",
    "        'Customer Name': 'customer_name',\n",
    "        'Segment': 'segment',\n",
    "        'State': 'state',\n",
    "        'City': 'city',\n",
    "        'Country': 'country',\n",
    "        'Postal Code': 'postal_code',\n",
    "        'Region': 'region',\n",
    "        'Market': 'market',\n",
    "        'Product ID': 'product_id',\n",
    "        'Product Name': 'product_name',\n",
    "        'Category': 'category',\n",
    "        'Sub-Category': 'subcategory',\n",
    "        'Sales': 'sales',\n",
    "        'Quantity': 'quantity',\n",
    "        'Profit': 'profit',\n",
    "        'Discount': 'discount',\n",
    "        'Shipping Cost': 'shipping_cost',\n",
    "        'Order Priority': 'order_priority',\n",
    "    }\n",
    ")\n"
   ]
  },
  {
   "cell_type": "code",
   "execution_count": 10,
   "metadata": {},
   "outputs": [],
   "source": [
    "\n",
    "def normalizacao(dataframe, colunas, apelido):\n",
    "    if len(colunas) == 1:\n",
    "        normalizado = [[s, d] for s, d in enumerate(dataframe[colunas[0]].unique())]\n",
    "        normalizado = pd.DataFrame(\n",
    "            normalizado,\n",
    "            columns = [\n",
    "                apelido+'_sequence',\n",
    "                'description'\n",
    "            ]\n",
    "        )\n",
    "        dataframe = dataframe.merge(\n",
    "            normalizado,\n",
    "            left_on = colunas,\n",
    "            right_on = 'description',\n",
    "            how = 'left'\n",
    "        )\n",
    "        dataframe = dataframe.drop(\n",
    "            columns = [colunas, 'description']\n",
    "        )\n",
    "    else:\n",
    "        normalizado = dataframe[colunas].drop_duplicates().reset_index()\n",
    "        normalizado = normalizado.rename(\n",
    "            columns={'index': apelido+'_sequence'}\n",
    "        )\n",
    "        dataframe = dataframe.merge(\n",
    "            normalizado, \n",
    "            right_on=colunas,\n",
    "            left_on=colunas, \n",
    "            how='left'\n",
    "        )\n",
    "        for coluna in dataframe.columns:\n",
    "            if coluna.endswith('_x') or coluna.endswith('_y') or coluna in colunas:\n",
    "                dataframe = dataframe.drop(columns=coluna)        \n",
    "    return dataframe, normalizado"
   ]
  },
  {
   "cell_type": "code",
   "execution_count": 11,
   "metadata": {},
   "outputs": [],
   "source": [
    "items, orders = normalizacao(\n",
    "    globalstore, \n",
    "    [\n",
    "        'order_number',\n",
    "        'order_date',\n",
    "        'ship_date',\n",
    "        'ship_mode',\n",
    "        'customer_id',\n",
    "        'customer_name',\n",
    "        'segment',\n",
    "        'city',\n",
    "        'state',\n",
    "        'country',\n",
    "        'postal_code',\n",
    "        'market',\n",
    "        'region',\n",
    "        'order_priority'\n",
    "    ], \n",
    "    'ord', \n",
    ")"
   ]
  },
  {
   "cell_type": "code",
   "execution_count": 12,
   "metadata": {},
   "outputs": [],
   "source": [
    "globalstore['order_date'] = globalstore['order_date'].astype('datetime64[ns]')\n",
    "globalstore['ship_date'] = globalstore['ship_date'].astype('datetime64[ns]')"
   ]
  },
  {
   "cell_type": "code",
   "execution_count": null,
   "metadata": {},
   "outputs": [],
   "source": []
  }
 ],
 "metadata": {
  "kernelspec": {
   "display_name": "env_py",
   "language": "python",
   "name": "python3"
  },
  "language_info": {
   "codemirror_mode": {
    "name": "ipython",
    "version": 3
   },
   "file_extension": ".py",
   "mimetype": "text/x-python",
   "name": "python",
   "nbconvert_exporter": "python",
   "pygments_lexer": "ipython3",
   "version": "3.8.16"
  },
  "orig_nbformat": 4
 },
 "nbformat": 4,
 "nbformat_minor": 2
}
